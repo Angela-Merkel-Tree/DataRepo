{
 "cells": [
  {
   "cell_type": "code",
   "execution_count": 195,
   "id": "bfa41a41",
   "metadata": {},
   "outputs": [],
   "source": [
    "import pandas as pd\n",
    "import altair as alt\n",
    "from __future__ import print_function\n",
    "from ipywidgets import interact, interactive, fixed, interact_manual\n",
    "import ipywidgets as widgets\n",
    "from IPython.display import display\n",
    "\n",
    "lag0 = pd.read_csv('https://raw.githubusercontent.com/Angela-Merkel-Tree/DataRepo/main/lag0.csv')\n",
    "lag1 = pd.read_csv('https://raw.githubusercontent.com/Angela-Merkel-Tree/DataRepo/main/lag1.csv')\n",
    "lag2 = pd.read_csv('https://raw.githubusercontent.com/Angela-Merkel-Tree/DataRepo/main/lag2.csv')\n",
    "lag3 = pd.read_csv('https://raw.githubusercontent.com/Angela-Merkel-Tree/DataRepo/main/lag3.csv')\n",
    "lag4 = pd.read_csv('https://raw.githubusercontent.com/Angela-Merkel-Tree/DataRepo/main/lag4.csv')\n",
    "lag5 = pd.read_csv('https://raw.githubusercontent.com/Angela-Merkel-Tree/DataRepo/main/lag5.csv')\n",
    "lag6 = pd.read_csv('https://raw.githubusercontent.com/Angela-Merkel-Tree/DataRepo/main/lag6.csv')\n",
    "lag7 = pd.read_csv('https://raw.githubusercontent.com/Angela-Merkel-Tree/DataRepo/main/lag7.csv')\n",
    "lag8 = pd.read_csv('https://raw.githubusercontent.com/Angela-Merkel-Tree/DataRepo/main/lag8.csv')\n",
    "lag9 = pd.read_csv('https://raw.githubusercontent.com/Angela-Merkel-Tree/DataRepo/main/lag9.csv')\n",
    "lag10 = pd.read_csv('https://raw.githubusercontent.com/Angela-Merkel-Tree/DataRepo/main/lag10.csv')"
   ]
  },
  {
   "cell_type": "code",
   "execution_count": 197,
   "id": "12e7e0e2",
   "metadata": {},
   "outputs": [
    {
     "data": {
      "application/vnd.jupyter.widget-view+json": {
       "model_id": "f430e11e6224474590606b0b97082a50",
       "version_major": 2,
       "version_minor": 0
      },
      "text/plain": [
       "interactive(children=(IntSlider(value=0, description='Years Prior', max=10), Dropdown(description='Branch of G…"
      ]
     },
     "metadata": {},
     "output_type": "display_data"
    }
   ],
   "source": [
    "branches = ['Presidency', 'Congress (Both Chambers)', 'House of Representatives', 'Senate']\n",
    "\n",
    "lag_selection = widgets.IntSlider(\n",
    "    min=0, \n",
    "    max=10,\n",
    "    description='Years Prior'\n",
    ")\n",
    "branch_selection = widgets.Dropdown(\n",
    "    options=branches,\n",
    "    value='Presidency',\n",
    "    description='Branch of Government',\n",
    "    disabled=False,\n",
    ")\n",
    "\n",
    "lag = ['0', '1', '2', '3', '4', '5', '6', '7', '8', '9', '10']\n",
    "\n",
    "party = alt.Scale(domain=('Democrat', 'Republican', 'Split'),\n",
    "                      range=[\"blue\", \"red\", \"purple\"])\n",
    "\n",
    "var_prefixes = ['pres', 'both', 'house', 'senate']\n",
    "\n",
    "for i in range(11):\n",
    "    for j in range(len(branches)):\n",
    "        if i == 0:\n",
    "            globals()[branches[j]+'_lag'+lag[i]] = alt.Chart(globals()['lag'+lag[i]]).mark_bar().encode(\n",
    "                x='Year:O',\n",
    "                y='Average:Q',\n",
    "                color=alt.Color(branches[j]+':N', scale=party),\n",
    "                tooltip=['President:N', 'Average:Q'],\n",
    "            ).properties(\n",
    "                width=1000,\n",
    "                height=800,\n",
    "                title = 'Who Controlled the Presidency '+lag[i]+' Years Previously?'\n",
    "            ).transform_filter(\n",
    "                alt.FieldGTEPredicate(field='Year', gte=1963)\n",
    "            )\n",
    "        else:\n",
    "            globals()[branches[j]+'_lag'+lag[i]] = alt.Chart(globals()['lag'+lag[i]]).mark_bar().encode(\n",
    "                x='Year:O',\n",
    "                y='Average:Q',\n",
    "                color=alt.Color(branches[j]+':N', scale=party),\n",
    "                tooltip=['Average:Q'],\n",
    "            ).properties(\n",
    "                width=1000,\n",
    "                height=800,\n",
    "                title = 'Who Controlled the '+branches[j]+' '+lag[i]+' Years Previously?'\n",
    "            ).transform_filter(\n",
    "                alt.FieldGTEPredicate(field='Year', gte=1963)\n",
    "            )\n",
    "        \n",
    "def f(x,y):\n",
    "    display(globals()[y+'_lag'+lag[x]])\n",
    "    \n",
    "interact(f, x=widgets.IntSlider(min=0, max=10,description='Years Prior',value=0),y=widgets.Dropdown(options=branches, description='Branch of Government'));"
   ]
  }
 ],
 "metadata": {
  "kernelspec": {
   "display_name": "Python 3 (ipykernel)",
   "language": "python",
   "name": "python3"
  },
  "language_info": {
   "codemirror_mode": {
    "name": "ipython",
    "version": 3
   },
   "file_extension": ".py",
   "mimetype": "text/x-python",
   "name": "python",
   "nbconvert_exporter": "python",
   "pygments_lexer": "ipython3",
   "version": "3.9.12"
  }
 },
 "nbformat": 4,
 "nbformat_minor": 5
}
